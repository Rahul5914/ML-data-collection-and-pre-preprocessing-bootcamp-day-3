{
  "nbformat": 4,
  "nbformat_minor": 0,
  "metadata": {
    "colab": {
      "provenance": []
    },
    "kernelspec": {
      "name": "python3",
      "display_name": "Python 3"
    },
    "language_info": {
      "name": "python"
    }
  },
  "cells": [
    {
      "cell_type": "markdown",
      "source": [
        "By Rahul kumar\n",
        "\n",
        "github - https://github.com/Rahul5914\n",
        "\n",
        "youtube - https://youtube.com/@biharwaleenginner?si=n-b4mPbcUZ35wt7P\n",
        "\n",
        "linkedin - https://www.linkedin.com/in/rahul-kumar-3829b322a/\n",
        "\n",
        "instagram - @therahul5914"
      ],
      "metadata": {
        "id": "oXI5aSFI1VIJ"
      }
    },
    {
      "cell_type": "markdown",
      "source": [
        "API - Application Programming Interface"
      ],
      "metadata": {
        "id": "qOqsMQvfcUsy"
      }
    },
    {
      "cell_type": "code",
      "execution_count": null,
      "metadata": {
        "colab": {
          "base_uri": "https://localhost:8080/"
        },
        "id": "izCbwVzuaX5M",
        "outputId": "eabb96bb-1232-40d3-d630-1306f9e52297"
      },
      "outputs": [
        {
          "output_type": "stream",
          "name": "stdout",
          "text": [
            "Requirement already satisfied: kaggle in /usr/local/lib/python3.11/dist-packages (1.6.17)\n",
            "Requirement already satisfied: six>=1.10 in /usr/local/lib/python3.11/dist-packages (from kaggle) (1.17.0)\n",
            "Requirement already satisfied: certifi>=2023.7.22 in /usr/local/lib/python3.11/dist-packages (from kaggle) (2025.1.31)\n",
            "Requirement already satisfied: python-dateutil in /usr/local/lib/python3.11/dist-packages (from kaggle) (2.8.2)\n",
            "Requirement already satisfied: requests in /usr/local/lib/python3.11/dist-packages (from kaggle) (2.32.3)\n",
            "Requirement already satisfied: tqdm in /usr/local/lib/python3.11/dist-packages (from kaggle) (4.67.1)\n",
            "Requirement already satisfied: python-slugify in /usr/local/lib/python3.11/dist-packages (from kaggle) (8.0.4)\n",
            "Requirement already satisfied: urllib3 in /usr/local/lib/python3.11/dist-packages (from kaggle) (2.3.0)\n",
            "Requirement already satisfied: bleach in /usr/local/lib/python3.11/dist-packages (from kaggle) (6.2.0)\n",
            "Requirement already satisfied: webencodings in /usr/local/lib/python3.11/dist-packages (from bleach->kaggle) (0.5.1)\n",
            "Requirement already satisfied: text-unidecode>=1.3 in /usr/local/lib/python3.11/dist-packages (from python-slugify->kaggle) (1.3)\n",
            "Requirement already satisfied: charset-normalizer<4,>=2 in /usr/local/lib/python3.11/dist-packages (from requests->kaggle) (3.4.1)\n",
            "Requirement already satisfied: idna<4,>=2.5 in /usr/local/lib/python3.11/dist-packages (from requests->kaggle) (3.10)\n"
          ]
        }
      ],
      "source": [
        "# installing the Kaggle library\n",
        "!pip install kaggle"
      ]
    },
    {
      "cell_type": "markdown",
      "source": [
        "Upload your Kaggle.json file"
      ],
      "metadata": {
        "id": "au8dsiage40A"
      }
    },
    {
      "cell_type": "markdown",
      "source": [
        "''' configuring the path of Kaggle.json file\n",
        "!mkdir -p ~/.kaggle\n",
        "!cp kaggle.json ~/.kaggle/\n",
        "!chmod 600 ~/.kaggle/kaggle.json\n",
        "\n",
        "Create a dedicated folder for your Kaggle credentials.\n",
        "Place your kaggle.json file containing your API key into that folder.\n",
        "Secure the file by setting appropriate permissions."
      ],
      "metadata": {
        "id": "WCFhmE83fWVQ"
      }
    },
    {
      "cell_type": "code",
      "source": [
        "# configuring the path of Kaggle.json file\n",
        "!mkdir -p ~/.kaggle  # Creates the .kaggle directory if it doesn't exist. This directory is typically located in your home directory.\n",
        "!cp kaggle.json ~/.kaggle/  # Copies the kaggle.json file into the .kaggle directory.\n",
        "!chmod 600 ~/.kaggle/kaggle.json  # Sets the permissions of the kaggle.json file to read and write for the owner only. This is for security reasons."
      ],
      "metadata": {
        "id": "TohgJ8qqccWs"
      },
      "execution_count": null,
      "outputs": []
    },
    {
      "cell_type": "code",
      "source": [
        "# API to fetch the dataset from Kaggle\n",
        "!kaggle competitions download -c LANL-Earthquake-Prediction"
      ],
      "metadata": {
        "id": "jWwcA_zKf1nY",
        "colab": {
          "base_uri": "https://localhost:8080/"
        },
        "outputId": "e1268974-4556-45fc-adaa-43ee23fe3747"
      },
      "execution_count": null,
      "outputs": [
        {
          "output_type": "stream",
          "name": "stdout",
          "text": [
            "LANL-Earthquake-Prediction.zip: Skipping, found more recently modified local copy (use --force to force download)\n"
          ]
        }
      ]
    },
    {
      "cell_type": "code",
      "source": [
        "# extracting the compessed Dataset\n",
        "from zipfile import ZipFile\n",
        "dataset = '/content/LANL-Earthquake-Prediction.zip'"
      ],
      "metadata": {
        "id": "Fr8Eaihr4whI"
      },
      "execution_count": null,
      "outputs": []
    },
    {
      "cell_type": "code",
      "source": [
        "with ZipFile(dataset,'r') as zip:\n",
        "  zip.extractall()\n",
        "  print('The dataset is extracted')"
      ],
      "metadata": {
        "colab": {
          "base_uri": "https://localhost:8080/"
        },
        "id": "dVEjKRN-9C1A",
        "outputId": "a58d5114-bf40-4f58-b9fb-acc0e3272b9c"
      },
      "execution_count": null,
      "outputs": [
        {
          "output_type": "stream",
          "name": "stdout",
          "text": [
            "The dataset is extracted\n"
          ]
        }
      ]
    },
    {
      "cell_type": "markdown",
      "source": [
        "extracting large dataset from kaggle (approx 10 gb)in 30 sec and now make pandas dataframe  then feed to ml and mmake some prediction"
      ],
      "metadata": {
        "id": "LdzEd_fG-b6X"
      }
    },
    {
      "cell_type": "code",
      "source": [
        "import pandas as pd"
      ],
      "metadata": {
        "id": "ThXCuYnH9Hx2"
      },
      "execution_count": null,
      "outputs": []
    },
    {
      "cell_type": "code",
      "source": [
        "# loading the dataset to a Pandas DataFrame\n",
        "dataset = pd.read_csv('/content/train.csv')"
      ],
      "metadata": {
        "id": "MOrff2CD-2Da"
      },
      "execution_count": null,
      "outputs": []
    },
    {
      "cell_type": "markdown",
      "source": [
        "system is crash as not more ram size"
      ],
      "metadata": {
        "id": "nRVCMq5dAXIz"
      }
    },
    {
      "cell_type": "code",
      "source": [],
      "metadata": {
        "id": "1qenfAOi_Aja"
      },
      "execution_count": null,
      "outputs": []
    }
  ]
}